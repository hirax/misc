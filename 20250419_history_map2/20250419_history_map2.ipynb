{
 "cells": [
  {
   "cell_type": "markdown",
   "id": "0f7913c5",
   "metadata": {},
   "source": [
    "# foliumを使って色んな地図を重ねて表示する"
   ]
  },
  {
   "cell_type": "code",
   "execution_count": 60,
   "id": "fcb3d98b",
   "metadata": {},
   "outputs": [],
   "source": [
    "import folium\n",
    "from folium.plugins import LocateControl\n",
    "\n",
    "center = [35.010888, 135.759509] # 初期地図の設定（京都市付近）\n",
    "m = folium.Map(location=center,\n",
    "               #tiles=None, # base mapを非表示\n",
    "               zoom_start=13, max_zoom=20, min_zoom=13,control_scale=True)\n",
    "               #width=600)\n",
    "#m.get_root().height = 600 # 縦サイズを指定\n",
    "\n",
    "# ベースマップ(tiles=Noneを変えた場合)\n",
    "#folium.TileLayer('openstreetmap', name='OpenStreetMap').add_to(m)\n",
    "# オーバーレイ(非表示)\n",
    "overlay_layers =[\n",
    "# 国土地理院 https://maps.gsi.go.jp/development/ichiran.html#ort_riku10\n",
    "{'name':'全国最新写真(シームレス)',\"attr\":'国土地理院+GRUS画像（© Axelspace）',\n",
    "'tiles':'https://cyberjapandata.gsi.go.jp/xyz/seamlessphoto/{z}/{x}/{y}.jpg'},\n",
    "{'name':'国土地理院 陰影起伏図',\"attr\":'国土地理院',\n",
    "'tiles':'https://cyberjapandata.gsi.go.jp/xyz/hillshademap/{z}/{x}/{y}.png'},\n",
    "{'name':'国土地理院 空中写真（1945年～1950年）',\"attr\":'国土地理院',\n",
    "'tiles':'https://cyberjapandata.gsi.go.jp/xyz/ort_USA10/{z}/{x}/{y}.png'},\n",
    "{'name':'国土地理院 空中写真（1936年～1942年頃 東京大阪）',\"attr\":'国土地理院',\n",
    "'tiles':'https://cyberjapandata.gsi.go.jp/xyz/ort_USA10/{z}/{x}/{y}.png'}\n",
    "]\n",
    "for layer in overlay_layers:\n",
    "    folium.TileLayer(attr=layer['attr'],name=layer['name'],tiles=layer['tiles'],\n",
    "        opacity=0.75,overlay=True,show=False).add_to(m)\n",
    "# 立命館大学提供のレイヤーをオーバーレイとしてfoliumマップに追加\n",
    "ritsumei_layers = {\n",
    "    \"meisai_sougou\": \"昭和26年頃京都市明細図(総合資料館版)【around 1951】\",\n",
    "    \"meisai_hasegawa\": \"昭和2年頃京都市明細図(長谷川家版)【around 1926】\",\n",
    "    \"s28\": \"昭和28年(都市計画)【1953】\",\n",
    "    \"s10\": \"昭和10年(都市計画)【1935】\",\n",
    "    \"s4\": \"昭和4年(都市計画)【1929】\",\n",
    "    \"mono_s4\": \"昭和4年mono(都市計画)【1929】\",\n",
    "    \"mono_t11\": \"大正11年mono(都市計画)【1922】\",\n",
    "    \"seisiki\": \"大正元年(正式図)【1912】\",\n",
    "    \"kasei\": \"明治25年(仮製図)【1892】\"}\n",
    "for layer_key, layer_name in ritsumei_layers.items():\n",
    "    url_template = f\"https://www.arc.ritsumei.ac.jp/archive01/theater/image/PB/geo/maps/{layer_key}/{{z}}/{{x}}/{{y}}.png\"\n",
    "    folium.raster_layers.TileLayer(\n",
    "        tiles=url_template,\n",
    "        attr=\"近代京都オーバーレイマップ\",\n",
    "        name=layer_name,\n",
    "        overlay=True, # baseレイヤーでなくoverlayレイヤーとする\n",
    "        show=False, # 初期は非表示\n",
    "        opacity=0.75,  # 初期透明度\n",
    "        tms=True  # TMS形式を指定\n",
    "    ).add_to(m)\n",
    "# オーバーレイ(非表示)\n",
    "# 今昔マップタイル https://ktgis.net/kjmapw/tilemapservice.html\n",
    "overlay_layers =[\n",
    "{'name':'今昔マップ 首都圏 1896-1909年',\"attr\":'今昔マップ on the web',\n",
    "'tiles':'https://ktgis.net/kjmapw/kjtilemap/tokyo50/2man/{z}/{x}/{y}.png'},\n",
    "{'name':'今昔マップ 京阪神圏 1892-1910年',\"attr\":'今昔マップ on the web',\n",
    "'tiles':'https://ktgis.net/kjmapw/kjtilemap/keihansin/2man/{z}/{x}/{y}.png'}]\n",
    "for layer in overlay_layers:\n",
    "    folium.TileLayer(attr=layer['attr'],name=layer['name'],tiles=layer['tiles'],\n",
    "        overlay=True,show=False,tms=True).add_to(m)\n",
    "    \n",
    "folium.LayerControl().add_to(m) # レイヤーコントロールを追加\n",
    "folium.plugins.LocateControl(auto_start=False).add_to(m) # デバイス位置表示オプション追加\n",
    "m.save(\"_map.html\")# 一旦、htmlファイルとして保存する\n",
    "#m #display(m) # Jupyter Notebook で表示\n",
    "\n",
    "tile_names_id = [] # overlayタイルを格納する\n",
    "for key, value in m._children.items():\n",
    "    if isinstance(value, folium.TileLayer) and value.overlay:\n",
    "        #print(vars(value))\n",
    "        tile_names_id.append(f'tile_layer_{value._id}')\n",
    "\n",
    "with open(\"_map.html\", 'r') as f: # HTMLファイルを読み込みHTMLコードを挿入する\n",
    "    html_content = f.read()\n",
    "custom_html = '''\n",
    "<div style=\"position:absolute;bottom:20px;right:10px;z-index:1000;background:rgba(255,255,255,0.9);padding:10px;\">\n",
    "<input id=\"slide\" type=\"range\" min=\"0\" max=\"1\" step=\"0.1\" value=\"1\" onchange=\"updateOpacity(this.value)\"></div>'''\n",
    "html_content = html_content.replace('</body>', f'{custom_html}</body>')# </body>直前に挿入\n",
    "custom_html = '<script>function updateOpacity(value) {'+\\\n",
    "''.join([f\"{name_id}.setOpacity(value);\" for name_id in tile_names_id])+\"}</script>\"\n",
    "html_content = html_content.replace('</html>', f'{custom_html}</html>')# </html>直前に挿入\n",
    "with open(\"map.html\", 'w') as f:# 追記コードを挿入したHTMLを保存する\n",
    "    f.write(html_content)"
   ]
  },
  {
   "cell_type": "code",
   "execution_count": 61,
   "id": "2156e030",
   "metadata": {
    "scrolled": false
   },
   "outputs": [
    {
     "data": {
      "text/html": [
       "\"<iframe width=\"600\" height=\"600\" src=\"./map.html\"></iframe>\""
      ],
      "text/plain": [
       "<IPython.core.display.HTML object>"
      ]
     },
     "execution_count": 61,
     "metadata": {},
     "output_type": "execute_result"
    }
   ],
   "source": [
    "from IPython.display import HTML\n",
    "\n",
    "HTML('\"<iframe width=\"600\" height=\"600\" src=\"./map.html\"></iframe>\"')"
   ]
  },
  {
   "cell_type": "code",
   "execution_count": null,
   "id": "7aa5db84",
   "metadata": {},
   "outputs": [],
   "source": []
  }
 ],
 "metadata": {
  "kernelspec": {
   "display_name": "jupyter-book-py312",
   "language": "python",
   "name": "jupyter-book-py312"
  },
  "language_info": {
   "codemirror_mode": {
    "name": "ipython",
    "version": 3
   },
   "file_extension": ".py",
   "mimetype": "text/x-python",
   "name": "python",
   "nbconvert_exporter": "python",
   "pygments_lexer": "ipython3",
   "version": "3.12.3"
  },
  "toc": {
   "base_numbering": 1,
   "nav_menu": {},
   "number_sections": true,
   "sideBar": true,
   "skip_h1_title": false,
   "title_cell": "Table of Contents",
   "title_sidebar": "Contents",
   "toc_cell": false,
   "toc_position": {},
   "toc_section_display": true,
   "toc_window_display": false
  }
 },
 "nbformat": 4,
 "nbformat_minor": 5
}
